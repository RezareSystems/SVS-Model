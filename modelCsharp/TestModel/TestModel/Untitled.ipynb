{
 "cells": [
  {
   "cell_type": "code",
   "execution_count": 44,
   "id": "54da614a-2168-4ffc-8a2f-8c2f3437fb63",
   "metadata": {},
   "outputs": [],
   "source": [
    "import pandas as pd\n",
    "FertData = pd.read_csv('WS2 Fertiliser Data.csv',skiprows=[0],parse_dates=['Date'],dayfirst=True,date_format='%d/%m/%Y',index_col=['Site','Date'])\n",
    "FertData.drop(['Crop ID', 'Fertiliser type', 'Fert/Lime', 'N:P:K:S', '% N','Rate (kg/ha)', 'Form of fert/lime'],axis=1,inplace=True)\n",
    "NFertData = FertData.where(FertData.iloc[:,0]!=0).dropna().iloc[:,0]\n",
    "NFertData.to_csv('NFertApplied')"
   ]
  },
  {
   "cell_type": "code",
   "execution_count": 61,
   "id": "0d0d8e36-12c5-4fb8-9552-aea9594767c1",
   "metadata": {
    "tags": []
   },
   "outputs": [],
   "source": [
    "SoilNData = pd.read_csv('WS2 Soil N Data.csv',parse_dates=['SamplingDate'],dayfirst=True,date_format='%d/%m/%Y',index_col=['SiteID','SamplingDate'],\n",
    "                       usecols=['SiteID','SamplingDate','SoilLayer', 'Layer depth (cm)','Mineral N (kg/ha)'])"
   ]
  },
  {
   "cell_type": "code",
   "execution_count": null,
   "id": "2da9ff7e-0695-49f8-9056-1361c4877b7b",
   "metadata": {
    "tags": []
   },
   "outputs": [
    {
     "data": {
      "text/html": [
       "<div>\n",
       "<style scoped>\n",
       "    .dataframe tbody tr th:only-of-type {\n",
       "        vertical-align: middle;\n",
       "    }\n",
       "\n",
       "    .dataframe tbody tr th {\n",
       "        vertical-align: top;\n",
       "    }\n",
       "\n",
       "    .dataframe thead th {\n",
       "        text-align: right;\n",
       "    }\n",
       "</style>\n",
       "<table border=\"1\" class=\"dataframe\">\n",
       "  <thead>\n",
       "    <tr style=\"text-align: right;\">\n",
       "      <th></th>\n",
       "      <th></th>\n",
       "      <th>SoilLayer</th>\n",
       "      <th>Layer depth (cm)</th>\n",
       "      <th>Mineral N (kg/ha)</th>\n",
       "    </tr>\n",
       "    <tr>\n",
       "      <th>SiteID</th>\n",
       "      <th>SamplingDate</th>\n",
       "      <th></th>\n",
       "      <th></th>\n",
       "      <th></th>\n",
       "    </tr>\n",
       "  </thead>\n",
       "  <tbody>\n",
       "    <tr>\n",
       "      <th rowspan=\"4\" valign=\"top\">2</th>\n",
       "      <th>2020-10-14</th>\n",
       "      <td>0 - 15 cm</td>\n",
       "      <td>15.0</td>\n",
       "      <td>8.0</td>\n",
       "    </tr>\n",
       "    <tr>\n",
       "      <th>2020-10-14</th>\n",
       "      <td>15 - 30 cm</td>\n",
       "      <td>15.0</td>\n",
       "      <td>7.0</td>\n",
       "    </tr>\n",
       "    <tr>\n",
       "      <th>2020-10-14</th>\n",
       "      <td>30 - 60 cm</td>\n",
       "      <td>30.0</td>\n",
       "      <td>22.0</td>\n",
       "    </tr>\n",
       "    <tr>\n",
       "      <th>2020-10-14</th>\n",
       "      <td>60 - 90 cm</td>\n",
       "      <td>30.0</td>\n",
       "      <td>29.0</td>\n",
       "    </tr>\n",
       "    <tr>\n",
       "      <th>3</th>\n",
       "      <th>2020-10-14</th>\n",
       "      <td>0 - 15 cm</td>\n",
       "      <td>15.0</td>\n",
       "      <td>12.0</td>\n",
       "    </tr>\n",
       "    <tr>\n",
       "      <th>...</th>\n",
       "      <th>...</th>\n",
       "      <td>...</td>\n",
       "      <td>...</td>\n",
       "      <td>...</td>\n",
       "    </tr>\n",
       "    <tr>\n",
       "      <th rowspan=\"5\" valign=\"top\">NaN</th>\n",
       "      <th>NaT</th>\n",
       "      <td>NaN</td>\n",
       "      <td>NaN</td>\n",
       "      <td>NaN</td>\n",
       "    </tr>\n",
       "    <tr>\n",
       "      <th>NaT</th>\n",
       "      <td>NaN</td>\n",
       "      <td>NaN</td>\n",
       "      <td>NaN</td>\n",
       "    </tr>\n",
       "    <tr>\n",
       "      <th>NaT</th>\n",
       "      <td>NaN</td>\n",
       "      <td>NaN</td>\n",
       "      <td>NaN</td>\n",
       "    </tr>\n",
       "    <tr>\n",
       "      <th>NaT</th>\n",
       "      <td>NaN</td>\n",
       "      <td>NaN</td>\n",
       "      <td>NaN</td>\n",
       "    </tr>\n",
       "    <tr>\n",
       "      <th>NaT</th>\n",
       "      <td>NaN</td>\n",
       "      <td>NaN</td>\n",
       "      <td>NaN</td>\n",
       "    </tr>\n",
       "  </tbody>\n",
       "</table>\n",
       "<p>2902 rows × 3 columns</p>\n",
       "</div>"
      ],
      "text/plain": [
       "                      SoilLayer  Layer depth (cm)  Mineral N (kg/ha)\n",
       "SiteID SamplingDate                                                 \n",
       "2      2020-10-14     0 - 15 cm              15.0                8.0\n",
       "       2020-10-14    15 - 30 cm              15.0                7.0\n",
       "       2020-10-14    30 - 60 cm              30.0               22.0\n",
       "       2020-10-14    60 - 90 cm              30.0               29.0\n",
       "3      2020-10-14     0 - 15 cm              15.0               12.0\n",
       "...                         ...               ...                ...\n",
       "NaN    NaT                  NaN               NaN                NaN\n",
       "       NaT                  NaN               NaN                NaN\n",
       "       NaT                  NaN               NaN                NaN\n",
       "       NaT                  NaN               NaN                NaN\n",
       "       NaT                  NaN               NaN                NaN\n",
       "\n",
       "[2902 rows x 3 columns]"
      ]
     },
     "execution_count": 62,
     "metadata": {},
     "output_type": "execute_result"
    }
   ],
   "source": [
    "SoilNData"
   ]
  }
 ],
 "metadata": {
  "kernelspec": {
   "display_name": "Python 3 (ipykernel)",
   "language": "python",
   "name": "python3"
  },
  "language_info": {
   "codemirror_mode": {
    "name": "ipython",
    "version": 3
   },
   "file_extension": ".py",
   "mimetype": "text/x-python",
   "name": "python",
   "nbconvert_exporter": "python",
   "pygments_lexer": "ipython3",
   "version": "3.10.13"
  }
 },
 "nbformat": 4,
 "nbformat_minor": 5
}
